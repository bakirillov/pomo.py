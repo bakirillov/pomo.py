{
 "cells": [
  {
   "cell_type": "code",
   "execution_count": 1,
   "metadata": {},
   "outputs": [],
   "source": [
    "import os\n",
    "import json\n",
    "import numpy as np\n",
    "import os.path as op\n",
    "import matplotlib.pyplot as plt"
   ]
  },
  {
   "cell_type": "code",
   "execution_count": 2,
   "metadata": {},
   "outputs": [],
   "source": [
    "STAT_FOLDER = \"./statistics\""
   ]
  },
  {
   "cell_type": "code",
   "execution_count": 3,
   "metadata": {},
   "outputs": [],
   "source": [
    "stat_files = [op.join(STAT_FOLDER, b) for b in [a for a in os.walk(STAT_FOLDER)][0][2]]"
   ]
  },
  {
   "cell_type": "code",
   "execution_count": 4,
   "metadata": {},
   "outputs": [],
   "source": [
    "def cycles(s):\n",
    "    return(\n",
    "        np.unique(\n",
    "            [op.split(a)[1].split(\"-\")[0] for a in stat_files],\n",
    "            return_counts=True\n",
    "        )\n",
    "    )"
   ]
  },
  {
   "cell_type": "code",
   "execution_count": 5,
   "metadata": {},
   "outputs": [],
   "source": [
    "days, n_cycles = cycles(stat_files)"
   ]
  },
  {
   "cell_type": "code",
   "execution_count": 38,
   "metadata": {},
   "outputs": [],
   "source": [
    "current_month = list(\n",
    "    sorted(\n",
    "        list(filter(lambda x: \".04.\" in x, days)),\n",
    "        key=lambda x: int(x.split(\".\")[0])\n",
    "    )\n",
    ")\n",
    "current_nc = [n_cycles[list(days).index(a)] for a in current_month]"
   ]
  },
  {
   "cell_type": "code",
   "execution_count": 39,
   "metadata": {},
   "outputs": [
    {
     "data": {
      "image/png": "[encoded data removed]",
      "text/plain": [
       "<Figure size 432x288 with 1 Axes>"
      ]
     },
     "metadata": {
      "needs_background": "light"
     },
     "output_type": "display_data"
    }
   ],
   "source": [
    "plt.bar(np.arange(len(current_month)), current_nc)\n",
    "plt.xticks(np.arange(len(current_month)), current_month, rotation=\"vertical\")\n",
    "plt.yticks(np.arange(np.max(n_cycles)+1))\n",
    "plt.grid()\n",
    "plt.title(\"Statistics\")\n",
    "plt.show()"
   ]
  }
 ],
 "metadata": {
  "kernelspec": {
   "display_name": "Python 3",
   "language": "python",
   "name": "python3"
  },
  "language_info": {
   "codemirror_mode": {
    "name": "ipython",
    "version": 3
   },
   "file_extension": ".py",
   "mimetype": "text/x-python",
   "name": "python",
   "nbconvert_exporter": "python",
   "pygments_lexer": "ipython3",
   "version": "3.7.5"
  }
 },
 "nbformat": 4,
 "nbformat_minor": 2
}
